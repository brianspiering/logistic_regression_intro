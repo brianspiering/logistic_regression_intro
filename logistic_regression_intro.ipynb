{
 "cells": [
  {
   "cell_type": "markdown",
   "id": "690d943b",
   "metadata": {},
   "source": [
    "<center><h2>Introduction to Logistic Regression</h2></center>\n",
    "<center><h2>By Brian Spiering</h2></center>\n"
   ]
  },
  {
   "cell_type": "markdown",
   "id": "c3a1e66e",
   "metadata": {},
   "source": [
    "<center><h2>Motivating Story</h2></center>\n",
    "<br>\n",
    "<br>\n",
    "<center>Are these malignant or benign cells?</center>\n",
    "<center><img src=\"images/This-is-a-magnified-image-of-a-malignant-breast-FNA-The-visible-cell-nuclei-have-been.png\" width=\"75%\"/></center>\n",
    "<br>\n",
    "<br>\n",
    "Imagine you are working as a Data Scientist at a medical research company. You are helping medical professionals decided if tissue biopsy  images contain cells that are malignant or benign. This task is directly related to a cancer diagnosis. \n",
    "\n",
    "You do not have enough labeled data for deep learning. You have collaborated with domain experts to extract information about cell nucleus properties.\n",
    "\n",
    "Ten real-valued features are computed for each cell nucleus:\n",
    "\n",
    "a) radius (mean of distances from center to points on the perimeter) <br>\n",
    "b) texture (standard deviation of gray-scale values) <br>\n",
    "c) perimeter <br>\n",
    "d) area <br>\n",
    "e) smoothness (local variation in radius lengths) <br>\n",
    "f) compactness (perimeter^2 / area - 1.0) <br>\n",
    "g) concavity (severity of concave portions of the contour) <br>\n",
    "h) concave points (number of concave portions of the contour) <br>\n",
    "i) symmetry <br>\n",
    "j) fractal dimension (\"coastline approximation\" - 1) <br>\n",
    "\n",
    "[Image source](https://www.researchgate.net/figure/This-is-a-magnified-image-of-a-malignant-breast-FNA-The-visible-cell-nuclei-have-been_fig1_2302195)"
   ]
  },
  {
   "cell_type": "markdown",
   "id": "bbb0b39a",
   "metadata": {},
   "source": [
    "<center><h2>Learning Outcomes</h2></center>\n",
    "\n",
    "__By the end of this session, you should be able to__:\n",
    "\n",
    "- Describe logistic regression in your own words.\n",
    "- Write and explain the formula for logistic regression.\n",
    "- Make a prediction with a trained logistic regression model.\n",
    "- Draw the decision boundary for logistic regression.\n",
    "- List when and when not to use logistic regression.\n"
   ]
  },
  {
   "cell_type": "markdown",
   "id": "0f678fb9",
   "metadata": {},
   "source": [
    "<center><h2>Linear Regression Review</h2></center>\n",
    "\n",
    "Let's do a quick review of linear regression.\n",
    "\n",
    "Let's predict the target as the symmetry of the cell nucleus (continuous valued). \n",
    "\n",
    "Features will be properties of the cell nucleus: radius, texture, smoothness ….\n",
    "<br>\n",
    "<br>\n",
    "<center>Data: A single feature predicts a target</center>\n",
    "<center><img src=\"images/15642961290066_logr_gen_1.png\" width=\"75%\"/></center>\n",
    "\n",
    "Supervised learning algorithm because each data point has a label / target value.\n",
    "\n",
    "<center>Best fit line</center>\n",
    "<br>\n",
    "<center><img src=\"images/15642962536507_logr_gen_2.png\" width=\"75%\"/></center>"
   ]
  },
  {
   "cell_type": "markdown",
   "id": "59050497",
   "metadata": {},
   "source": [
    "<center><h2>Linear regression: Mathematical formalism</h2></center>\n",
    "\n",
    "Model it as a linear combination of one or more features:\n",
    "\n",
    "$$ ŷ = β_0 + β_1x_1 + … + β_px_p = β_0 + \\sum_{i=1}^{p} β_ix_i = β_0 + \\vec{x^T} \\vec{β}$$\n",
    "\n",
    "The $β_0$ term is non elegant (aka, kinda awkward).  \n",
    "Let's clean it up with \"add vector of 1s\" technique.\n",
    "\n",
    "$$\\vec{x} = [1, x_1, x_2, …, x_p]$$\n",
    "\n",
    "$$\\vec{β} = [β_0, β_1, β_2, …, β_p]$$\n",
    "\n",
    "$$ ŷ = \\vec{x^T} \\vec{β}$$\n",
    "\n",
    "or commonly notated as\n",
    "\n",
    "$$ ŷ = xβ$$\n"
   ]
  },
  {
   "cell_type": "markdown",
   "id": "882e952f",
   "metadata": {},
   "source": [
    "<center><h2>Linear regression: Loss function</h2></center>\n",
    "\n",
    "$$ MSE(β) = \\frac{1}{n}\\sum_{i=1}^{n} (y_i - ŷ_i)^2 $$\n",
    "\n",
    "<center>Best fit line</center>\n",
    "<center><img src=\"images/15642962536507_logr_gen_2.png\" width=\"75%\"/></center>\n",
    "\n",
    "<center>Make prediction</center>\n",
    "<center><img src=\"images/15643029750927_logr_gen_3.png\" width=\"75%\"/></center>"
   ]
  },
  {
   "cell_type": "markdown",
   "id": "64a6e012",
   "metadata": {},
   "source": [
    "<center><h2>Any questions about linear regression?</h2></center>"
   ]
  },
  {
   "cell_type": "markdown",
   "id": "c3eb4297",
   "metadata": {},
   "source": [
    "<center><h2>Logistic Regression: Different kind of target</h2></center>\n",
    "\n",
    "For binary classification, target variable (y) can take one of two discrete outcomes (classes):\n",
    "\n",
    "- Yes / No\n",
    "- Present / Absent\n",
    "- Pass / Fail\n",
    "- Win / Loss\n",
    "- Go / No go\n",
    "- Malignant / Benign\n",
    "\n",
    "We have to encode it as indicator variable: 0 or 1.\n",
    "\n",
    "The goal is train a binary classifier to be make decision about the class of a new observation.\n",
    "\n",
    "Also, a supervised learning algorithm because each data point has a label / target value."
   ]
  },
  {
   "cell_type": "markdown",
   "id": "805b50f6",
   "metadata": {},
   "source": [
    "<center><h2>Comparing Linear Regression to Logistic Regression</h2></center>\n",
    "\n",
    "<br>\n",
    "<center><img src=\"images/1_Ubge8qVlc4Xk58H1oMp4Zw.jpeg\" width=\"75%\"/></center>\n",
    "\n",
    "\n",
    "\n",
    "Linear regression fits a line to the data.\n",
    "\n",
    "Logistic regression fits a logistic function / \"S\" shaped curve to the data."
   ]
  },
  {
   "cell_type": "markdown",
   "id": "ba3582d3",
   "metadata": {},
   "source": [
    "<center><h2>Logistic Function</h2></center>\n",
    "\n",
    "<br>\n",
    "<center><img src=\"images/logistic_function_graph.png\" width=\"75%\"/></center>\n",
    "\n",
    "Also called sigmoid function.\n",
    "\n",
    "The sigmoid functions takes continuous input values and output values 0 to 1.\n",
    "\n",
    "I like calling it the squashing function - It squashes the values to bound them 0 and 1.\n",
    "\n",
    "Sigmoid generates a smooth transition from class 0 to class 1 by giving probability of class 1:\n",
    "\n",
    "$$ P(y=1 | x)$$"
   ]
  },
  {
   "cell_type": "markdown",
   "id": "95ee47b7",
   "metadata": {},
   "source": [
    "<center><h2>Logistic Function: Mathematical formalism</h2></center>\n",
    "\n",
    "\n",
    "Sigmoid function:  \n",
    "\n",
    "$$ σ (z) = \\frac{1}{1+ℯ^{-z}} = \\frac{ℯ^z}{1+ℯ^z}$$\n",
    "\n",
    "e is a mathematical constant whic is ~2.718.\n",
    "\n",
    "Substituting vectorized linear equations into sigmoid function:\n",
    "\n",
    "$$ σ(xβ) = \\frac{1}{1+ℯ^{-xβ}} = \\frac{ℯ^{-xβ}}{1+ℯ^{-xβ}}$$\n",
    "\n",
    "The result is probability of class 1 for given instance:\n",
    "\n",
    "$$σ(x_iβ) = P(y=1 | x_i)$$"
   ]
  },
  {
   "cell_type": "markdown",
   "id": "fb4d1d1c",
   "metadata": {},
   "source": [
    "<center><h2>Logistic Function: Loss function</h2></center>\n",
    "\n",
    "The goal of the loss is to find the parameters $β$ that maximize the probability of the true y labels {0, 1} in the training data given the observations $x$. \n",
    "\n",
    "Let's define the loss function and then solve for β that gives minimum loss value.\n",
    "\n",
    "$$   Likelihood(β) = \\prod\\limits_{i=1}^n\n",
    "\\begin{cases}\n",
    "P(x_i;β)  \\text{    if $y_i$ = 1 }\\\\\n",
    "1- P(x_i;β) \\text{ if $y_i$ = 0 }\n",
    "\\end{cases}\n",
    "$$\n",
    "\n",
    "Products are computation complex and sometimes result in numerical underflow errors.\n",
    "\n",
    "So let's convert product to summation by taking the log:\n",
    "\n",
    "$$   Likelihood(β) = \\sum_{i=1}^n\n",
    "\\begin{cases}\n",
    "log(P(x_i;β))  \\text{    if $y_i$ = 1 }\\\\\n",
    "log(1- P(x_i;β)) \\text{ if $y_i$ = 0 }\n",
    "\\end{cases}\n",
    "$$\n",
    "\n",
    "We can either maximize the log of likelihood function or minimize the negative of log likelihood.\n",
    "\n",
    "Typically it is optimized through gradient descent (I'm going to save gradient descent for another time) so we want to minimize the negative of log likelihood.\n",
    "\n",
    "Also called the cross-entropy loss."
   ]
  },
  {
   "cell_type": "markdown",
   "id": "1b146df6",
   "metadata": {},
   "source": [
    "<center><h2>How do we make a decision? </h2></center>\n",
    "\n",
    "We need to make a decision about specific image. Given cell properties, do we predict malignant or benign?\n",
    "\n",
    "We have a trained model $P(y=1|x)$.\n",
    "\n",
    "Given a specific example (an instance with certain feature values), \n",
    "\n",
    "<br>\n",
    "<center><img src=\"images/prediction.png\" width=\"75%\"/></center>\n",
    "\n",
    "For a test instance x, we say yes if the probability P(y = 1|x) is more than .5, and no otherwise. We call .5 the decision boundary:\n",
    "\n",
    "$$   decision =\n",
    "\\begin{cases}\n",
    "1  & \\text{if P(y=1|x) > 0.5} \\\\\n",
    "0 & \\text{otherwise}\n",
    "\\end{cases}\n",
    "$$\n",
    "\n",
    "The logistic regression model itself simply models probability of output in terms of input. It is not a classifier and does not perform statistical classification.\n",
    "\n",
    "The logistic regression model can be used to make a classifier by adding a cut-off or decision value."
   ]
  },
  {
   "cell_type": "markdown",
   "id": "7d8e3125",
   "metadata": {},
   "source": [
    "<center><h2>Decision Boundary</h2></center>\n",
    "\n",
    "<br>\n",
    "<center><img src=\"images/boundary.png\" width=\"75%\"/></center>\n",
    "\n",
    "In classification problems with two or more classes, a decision boundary is a hypersurface that separates the underlying vector space into sets, one for each class\n",
    "\n",
    "For logistic regression it will be hyperplane, aka straight line.\n",
    "\n",
    "<br>\n",
    "<center><img src=\"images/moons.png\" width=\"75%\"/></center>"
   ]
  },
  {
   "cell_type": "code",
   "execution_count": 18,
   "id": "609e29e6",
   "metadata": {},
   "outputs": [
    {
     "name": "stderr",
     "output_type": "stream",
     "text": [
      "/Users/brian/anaconda3/lib/python3.8/site-packages/mlxtend/plotting/decision_regions.py:243: UserWarning: No contour levels were found within the data range.\n",
      "  ax.contour(xx, yy, Z, cset.levels,\n"
     ]
    },
    {
     "data": {
      "image/png": "[encoded data removed]",
      "text/plain": [
       "<Figure size 1008x720 with 1 Axes>"
      ]
     },
     "metadata": {
      "needs_background": "light"
     },
     "output_type": "display_data"
    }
   ],
   "source": [
    "import matplotlib.pyplot   as plt\n",
    "import matplotlib.gridspec as gridspec\n",
    "from   mlxtend.plotting     import plot_decision_regions\n",
    "from   sklearn.linear_model import LogisticRegression\n",
    "from   sklearn.datasets     import make_classification, make_circles, make_moons\n",
    "%matplotlib inline  \n",
    "\n",
    "# X, y = make_classification(n_samples=200, \n",
    "#                n_features=2, \n",
    "#                n_informative=2,\n",
    "#                n_redundant=0, \n",
    "#                n_classes=2, \n",
    "#                random_state=42)\n",
    "\n",
    "X, y = make_moons(n_samples=200, \n",
    "                  random_state=42)\n",
    "\n",
    "# X, y = make_circles(n_samples=200, \n",
    "#                   random_state=42)\n",
    "\n",
    "\n",
    "clf1 = LogisticRegression()\n",
    "gs = gridspec.GridSpec(3, 2)\n",
    " \n",
    "fig = plt.figure(figsize=(14,10))\n",
    " \n",
    "labels = ['Logistic Regression']\n",
    "\n",
    "for clf, lab, grd in zip([clf1], labels,[(0,0)]):\n",
    "    clf.fit(X, y)\n",
    "    ax = plt.subplot(gs[grd[0], grd[1]])\n",
    "    fig = plot_decision_regions(X=X, y=y, clf=clf, legend=2)\n",
    "    plt.title(lab)\n",
    " \n",
    "plt.show()"
   ]
  },
  {
   "cell_type": "markdown",
   "id": "f7e14c5e",
   "metadata": {},
   "source": [
    "<center><h2>When to use logistic regression</h2></center>\n",
    "\n",
    "Overall it is a simple algorithm that performs very well on a wide range of problems.\n",
    "\n",
    "Good choice for \"advanced\" baseline model.\n",
    "\n",
    "Relatively straightforward to interpret the coefficients and the entire model.\n",
    "\n",
    "Fast to train and predict.\n",
    "\n",
    "Predicts the probability of class membership which is useful (some other classification algorithms do not inherently generate probabilities.\n",
    "\n",
    "Common so easy to communicate to other and use established libraries."
   ]
  },
  {
   "cell_type": "markdown",
   "id": "60b86b9b",
   "metadata": {},
   "source": [
    "<center><h2>When to not use logistic regression</h2></center>\n",
    "\n",
    "Since it is simple, it often will not yield the best performance in an evaluation metric.\n",
    "\n",
    "It requires a lot of feature engineering. Features should be standardized - rescaled to be between 0 and 1. Feature standardized is useful for optimization and for regularization. The coefficients need to be explicitly defined, either by hand or programmatically.\n",
    "\n",
    "Since it learns a hyperplane, assumes there is a linear separation between target classes.\n",
    "\n",
    "Completely fails many non-linear targets:\n",
    "<br>\n",
    "<center><img src=\"images/circles.png\" width=\"75%\"/></center>"
   ]
  },
  {
   "cell_type": "markdown",
   "id": "5b6214e7",
   "metadata": {},
   "source": [
    "<center><h2>Check for understanding</h2></center>\n",
    "\n",
    "Logistic regression mainly used for regression problems.\n",
    "\n",
    "A) True  👍    \n",
    "B) False 😮\n",
    "\n",
    "Solution: B\n",
    "\n",
    "Logistic regression is a classification algorithm. It is poorly named. \n",
    "\n"
   ]
  },
  {
   "cell_type": "markdown",
   "id": "70c9dff8",
   "metadata": {},
   "source": [
    "<center><h2>Check for understanding</h2></center>\n",
    "\n",
    "Which of the following methods do we use to best fit the data in Logistic Regression?\n",
    "\n",
    "A) Least Square Error  👏   \n",
    "B) Maximum Likelihood  😂  \n",
    "C) Cosine distance     ❤️  \n",
    "\n",
    "Solution is: B Maximum Likelihood. \n",
    "\n",
    "We have defined a the likelihood as the probability of making a correct prediction and want to be as high as possible."
   ]
  },
  {
   "cell_type": "markdown",
   "id": "4ef5d317",
   "metadata": {},
   "source": [
    "<center><h2>What to learn next</h2></center>\n",
    "\n",
    "- Gradient descent to optimize a loss function.\n",
    "- Regularization by adding a penalty term to loss function.\n",
    "- Evaluation metrics for classification.\n",
    "- Multi-class classification.\n",
    "- Build deep neural networks by stacked logistic regressions."
   ]
  },
  {
   "cell_type": "markdown",
   "id": "208292c3",
   "metadata": {},
   "source": [
    "<center><h2>Takeaways</h2></center>\n",
    "\n",
    "- Logistic regression is the classification version of linear regression.\n",
    "- Use the sigmoid function to make predict for probability of the postive class.\n",
    "- Logistic regression learns a hyperplane (a straight decision boundary in feature space).\n",
    "- Logistic regression is a simple (but useful) model."
   ]
  },
  {
   "cell_type": "markdown",
   "id": "17d0e27f",
   "metadata": {},
   "source": [
    "<br>\n",
    "<br> \n",
    "<br>\n",
    "\n",
    "----"
   ]
  },
  {
   "cell_type": "markdown",
   "id": "bc43a210",
   "metadata": {},
   "source": [
    "<center><h2>Sources of Inspiration</h2></center>\n",
    "\n",
    "- https://medium.com/@sitingkoh1808/metis-project-5-prediction-of-breast-cancer-d2bb3e89e31f\n",
    "- https://archive.ics.uci.edu/ml/datasets/Breast+Cancer+Wisconsin+(Diagnostic)\n",
    "- https://github.com/parrt/msds621\n",
    "- https://openclassrooms.com/en/courses/6389626-train-a-supervised-machine-learning-model/6405876-understand-the-logistic-regression-algorithm\n",
    "- Speech and Language Processing (3rd edition) by Jurafsky and Martin\n",
    "- https://en.wikipedia.org/wiki/Logistic_regression\n",
    "- https://www.analyticsvidhya.com/blog/2017/08/skilltest-logistic-regression/\n",
    "- https://predictivehacks.com/decision-boundary-in-python/\n",
    "- https://www.youtube.com/watch?v=F_VG4LNjZZw&ab_channel=ArtificialIntelligence-AllinOne"
   ]
  },
  {
   "cell_type": "markdown",
   "id": "73d500ee",
   "metadata": {},
   "source": [
    "<center><h2>Bonus Material</h2></center>\n",
    "\n"
   ]
  },
  {
   "cell_type": "markdown",
   "id": "42af70ea",
   "metadata": {},
   "source": [
    "<center><h2>Can you fit logistic regression with categorical variables?</h2></center>\n",
    "\n",
    "Yes - typically you one-hot encode them.\n",
    "\n",
    "The parameter (or weight) of each categorical is how much the presence of that feature impact the probability of class 1.\n",
    "\n",
    "The can be visualized with a bar plot with each bar representing the estimated probability of observing a specific outcome in that condition. "
   ]
  },
  {
   "cell_type": "code",
   "execution_count": 19,
   "id": "d98a3a3c",
   "metadata": {},
   "outputs": [
    {
     "name": "stdout",
     "output_type": "stream",
     "text": [
      ".. _breast_cancer_dataset:\n",
      "\n",
      "Breast cancer wisconsin (diagnostic) dataset\n",
      "--------------------------------------------\n",
      "\n",
      "**Data Set Characteristics:**\n",
      "\n",
      "    :Number of Instances: 569\n",
      "\n",
      "    :Number of Attributes: 30 numeric, predictive attributes and the class\n",
      "\n",
      "    :Attribute Information:\n",
      "        - radius (mean of distances from center to points on the perimeter)\n",
      "        - texture (standard deviation of gray-scale values)\n",
      "        - perimeter\n",
      "        - area\n",
      "        - smoothness (local variation in radius lengths)\n",
      "        - compactness (perimeter^2 / area - 1.0)\n",
      "        - concavity (severity of concave portions of the contour)\n",
      "        - concave points (number of concave portions of the contour)\n",
      "        - symmetry\n",
      "        - fractal dimension (\"coastline approximation\" - 1)\n",
      "\n",
      "        The mean, standard error, and \"worst\" or largest (mean of the three\n",
      "        worst/largest values) of these features were computed for each image,\n",
      "        resulting in 30 features.  For instance, field 0 is Mean Radius, field\n",
      "        10 is Radius SE, field 20 is Worst Radius.\n",
      "\n",
      "        - class:\n",
      "                - WDBC-Malignant\n",
      "                - WDBC-Benign\n",
      "\n",
      "    :Summary Statistics:\n",
      "\n",
      "    ===================================== ====== ======\n",
      "                                           Min    Max\n",
      "    ===================================== ====== ======\n",
      "    radius (mean):                        6.981  28.11\n",
      "    texture (mean):                       9.71   39.28\n",
      "    perimeter (mean):                     43.79  188.5\n",
      "    area (mean):                          143.5  2501.0\n",
      "    smoothness (mean):                    0.053  0.163\n",
      "    compactness (mean):                   0.019  0.345\n",
      "    concavity (mean):                     0.0    0.427\n",
      "    concave points (mean):                0.0    0.201\n",
      "    symmetry (mean):                      0.106  0.304\n",
      "    fractal dimension (mean):             0.05   0.097\n",
      "    radius (standard error):              0.112  2.873\n",
      "    texture (standard error):             0.36   4.885\n",
      "    perimeter (standard error):           0.757  21.98\n",
      "    area (standard error):                6.802  542.2\n",
      "    smoothness (standard error):          0.002  0.031\n",
      "    compactness (standard error):         0.002  0.135\n",
      "    concavity (standard error):           0.0    0.396\n",
      "    concave points (standard error):      0.0    0.053\n",
      "    symmetry (standard error):            0.008  0.079\n",
      "    fractal dimension (standard error):   0.001  0.03\n",
      "    radius (worst):                       7.93   36.04\n",
      "    texture (worst):                      12.02  49.54\n",
      "    perimeter (worst):                    50.41  251.2\n",
      "    area (worst):                         185.2  4254.0\n",
      "    smoothness (worst):                   0.071  0.223\n",
      "    compactness (worst):                  0.027  1.058\n",
      "    concavity (worst):                    0.0    1.252\n",
      "    concave points (worst):               0.0    0.291\n",
      "    symmetry (worst):                     0.156  0.664\n",
      "    fractal dimension (worst):            0.055  0.208\n",
      "    ===================================== ====== ======\n",
      "\n",
      "    :Missing Attribute Values: None\n",
      "\n",
      "    :Class Distribution: 212 - Malignant, 357 - Benign\n",
      "\n",
      "    :Creator:  Dr. William H. Wolberg, W. Nick Street, Olvi L. Mangasarian\n",
      "\n",
      "    :Donor: Nick Street\n",
      "\n",
      "    :Date: November, 1995\n",
      "\n",
      "This is a copy of UCI ML Breast Cancer Wisconsin (Diagnostic) datasets.\n",
      "https://goo.gl/U2Uwz2\n",
      "\n",
      "Features are computed from a digitized image of a fine needle\n",
      "aspirate (FNA) of a breast mass.  They describe\n",
      "characteristics of the cell nuclei present in the image.\n",
      "\n",
      "Separating plane described above was obtained using\n",
      "Multisurface Method-Tree (MSM-T) [K. P. Bennett, \"Decision Tree\n",
      "Construction Via Linear Programming.\" Proceedings of the 4th\n",
      "Midwest Artificial Intelligence and Cognitive Science Society,\n",
      "pp. 97-101, 1992], a classification method which uses linear\n",
      "programming to construct a decision tree.  Relevant features\n",
      "were selected using an exhaustive search in the space of 1-4\n",
      "features and 1-3 separating planes.\n",
      "\n",
      "The actual linear program used to obtain the separating plane\n",
      "in the 3-dimensional space is that described in:\n",
      "[K. P. Bennett and O. L. Mangasarian: \"Robust Linear\n",
      "Programming Discrimination of Two Linearly Inseparable Sets\",\n",
      "Optimization Methods and Software 1, 1992, 23-34].\n",
      "\n",
      "This database is also available through the UW CS ftp server:\n",
      "\n",
      "ftp ftp.cs.wisc.edu\n",
      "cd math-prog/cpo-dataset/machine-learn/WDBC/\n",
      "\n",
      ".. topic:: References\n",
      "\n",
      "   - W.N. Street, W.H. Wolberg and O.L. Mangasarian. Nuclear feature extraction \n",
      "     for breast tumor diagnosis. IS&T/SPIE 1993 International Symposium on \n",
      "     Electronic Imaging: Science and Technology, volume 1905, pages 861-870,\n",
      "     San Jose, CA, 1993.\n",
      "   - O.L. Mangasarian, W.N. Street and W.H. Wolberg. Breast cancer diagnosis and \n",
      "     prognosis via linear programming. Operations Research, 43(4), pages 570-577, \n",
      "     July-August 1995.\n",
      "   - W.H. Wolberg, W.N. Street, and O.L. Mangasarian. Machine learning techniques\n",
      "     to diagnose breast cancer from fine-needle aspirates. Cancer Letters 77 (1994) \n",
      "     163-171.\n"
     ]
    }
   ],
   "source": [
    "from sklearn.datasets import load_breast_cancer\n",
    "\n",
    "data = load_breast_cancer()\n",
    "print(data.DESCR)"
   ]
  },
  {
   "cell_type": "markdown",
   "id": "be2fdcd7",
   "metadata": {},
   "source": [
    "<center><h2>Extend logistic regression to build deep neural networks</h2></center>\n",
    "\n",
    "<br>\n",
    "<center><img src=\"images/function_3.png\" width=\"75%\"/></center>\n",
    "\n",
    "<br>\n",
    "<center><img src=\"images/stacked.png\" width=\"75%\"/></center>"
   ]
  },
  {
   "cell_type": "markdown",
   "id": "1567211a",
   "metadata": {},
   "source": [
    "<center><h2>Logistic Function</h2></center>\n",
    "\n",
    "Logistic Function is differentiable which is handy for learning.\n",
    "\n",
    "The sigmoid function has the property:\n",
    "\n",
    "$$1−σ(x) = σ(−x)$$\n",
    "\n",
    "thus  we could also have expressed P(y = 0) as σ (−𝑥β)"
   ]
  },
  {
   "cell_type": "markdown",
   "id": "f554905f",
   "metadata": {},
   "source": [
    "<center><h2>Odds</h2></center>\n",
    "Given:\n",
    "$$ p(x) = σ(xβ) = \\frac{1}{1+ℯ^{-xβ}} $$\n",
    "and:\n",
    "$$ odds = \\frac{p}{1-p} $$\n",
    "\n",
    "Substitute in 𝑝(𝐱).\n",
    "\n",
    "Simplify.\n",
    "\n",
    "Take log.\n",
    "\n",
    "$$ log(odd) = xβ $$\n",
    "\n",
    "The unit of measurement for the log-odds scale is called a logit, from __log__istic un<b>it<b>."
   ]
  },
  {
   "cell_type": "markdown",
   "id": "07d57b59",
   "metadata": {},
   "source": [
    "<br>\n",
    "<br> \n",
    "<br>\n",
    "\n",
    "----"
   ]
  }
 ],
 "metadata": {
  "kernelspec": {
   "display_name": "Python 3",
   "language": "python",
   "name": "python3"
  },
  "language_info": {
   "codemirror_mode": {
    "name": "ipython",
    "version": 3
   },
   "file_extension": ".py",
   "mimetype": "text/x-python",
   "name": "python",
   "nbconvert_exporter": "python",
   "pygments_lexer": "ipython3",
   "version": "3.8.8"
  },
  "toc": {
   "base_numbering": 1,
   "nav_menu": {},
   "number_sections": false,
   "sideBar": true,
   "skip_h1_title": false,
   "title_cell": "Table of Contents",
   "title_sidebar": "Contents",
   "toc_cell": false,
   "toc_position": {},
   "toc_section_display": true,
   "toc_window_display": false
  }
 },
 "nbformat": 4,
 "nbformat_minor": 5
}
